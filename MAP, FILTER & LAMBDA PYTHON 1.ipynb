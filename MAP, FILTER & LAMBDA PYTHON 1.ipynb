{
 "cells": [
  {
   "cell_type": "code",
   "execution_count": 1,
   "id": "b2332bfc",
   "metadata": {},
   "outputs": [
    {
     "name": "stdout",
     "output_type": "stream",
     "text": [
      "Help on class map in module builtins:\n",
      "\n",
      "class map(object)\n",
      " |  map(func, *iterables) --> map object\n",
      " |  \n",
      " |  Make an iterator that computes the function using arguments from\n",
      " |  each of the iterables.  Stops when the shortest iterable is exhausted.\n",
      " |  \n",
      " |  Methods defined here:\n",
      " |  \n",
      " |  __getattribute__(self, name, /)\n",
      " |      Return getattr(self, name).\n",
      " |  \n",
      " |  __iter__(self, /)\n",
      " |      Implement iter(self).\n",
      " |  \n",
      " |  __next__(self, /)\n",
      " |      Implement next(self).\n",
      " |  \n",
      " |  __reduce__(...)\n",
      " |      Return state information for pickling.\n",
      " |  \n",
      " |  ----------------------------------------------------------------------\n",
      " |  Static methods defined here:\n",
      " |  \n",
      " |  __new__(*args, **kwargs) from builtins.type\n",
      " |      Create and return a new object.  See help(type) for accurate signature.\n",
      "\n"
     ]
    }
   ],
   "source": [
    "help(map)"
   ]
  },
  {
   "cell_type": "code",
   "execution_count": 7,
   "id": "5cddbd64",
   "metadata": {},
   "outputs": [],
   "source": [
    "#membuat definisi fungsi kali5\n",
    "def kali5(num):\n",
    "    return num*10"
   ]
  },
  {
   "cell_type": "code",
   "execution_count": 8,
   "id": "2b37ad67",
   "metadata": {},
   "outputs": [
    {
     "data": {
      "text/plain": [
       "100"
      ]
     },
     "execution_count": 8,
     "metadata": {},
     "output_type": "execute_result"
    }
   ],
   "source": [
    "kali5(10)"
   ]
  },
  {
   "cell_type": "code",
   "execution_count": 38,
   "id": "28253c8f",
   "metadata": {},
   "outputs": [],
   "source": [
    "#mengalikan list difungsi\n",
    "num = [50, 60, 70, 80, 90]"
   ]
  },
  {
   "cell_type": "code",
   "execution_count": 39,
   "id": "91a3634e",
   "metadata": {},
   "outputs": [
    {
     "name": "stdout",
     "output_type": "stream",
     "text": [
      "[50, 60, 70, 80, 90]\n",
      "[50, 60, 70, 80, 90]\n",
      "[50, 60, 70, 80, 90]\n",
      "[50, 60, 70, 80, 90]\n",
      "[50, 60, 70, 80, 90]\n"
     ]
    }
   ],
   "source": [
    "#menggunakan praktik MAP\n",
    "for a in map(kali5,num):\n",
    "    print(angka)"
   ]
  },
  {
   "cell_type": "code",
   "execution_count": 40,
   "id": "725523d0",
   "metadata": {},
   "outputs": [
    {
     "data": {
      "text/plain": [
       "[500, 600, 700, 800, 900]"
      ]
     },
     "execution_count": 40,
     "metadata": {},
     "output_type": "execute_result"
    }
   ],
   "source": [
    "#MENYIMPAN NILAI HASIL = KEGUNAAN FUNGSI MAP\n",
    "list(map(kali5,num))"
   ]
  },
  {
   "cell_type": "code",
   "execution_count": 42,
   "id": "8663bea0",
   "metadata": {},
   "outputs": [
    {
     "data": {
      "text/plain": [
       "[500, 600, 700, 800, 900]"
      ]
     },
     "execution_count": 42,
     "metadata": {},
     "output_type": "execute_result"
    }
   ],
   "source": [
    "hasillist = list(map(kali5,num))\n",
    "hasillist"
   ]
  },
  {
   "cell_type": "code",
   "execution_count": 49,
   "id": "6eac3210",
   "metadata": {},
   "outputs": [],
   "source": [
    "num2 = (12, 13, 14, 15, 16)"
   ]
  },
  {
   "cell_type": "code",
   "execution_count": 50,
   "id": "f8489702",
   "metadata": {},
   "outputs": [
    {
     "data": {
      "text/plain": [
       "(120, 130, 140, 150, 160)"
      ]
     },
     "execution_count": 50,
     "metadata": {},
     "output_type": "execute_result"
    }
   ],
   "source": [
    "hasil2 = tuple(map(kali5, num2))\n",
    "hasil2"
   ]
  },
  {
   "cell_type": "code",
   "execution_count": 60,
   "id": "c7245b26",
   "metadata": {},
   "outputs": [
    {
     "name": "stdout",
     "output_type": "stream",
     "text": [
      "Help on built-in function len in module builtins:\n",
      "\n",
      "len(obj, /)\n",
      "    Return the number of items in a container.\n",
      "\n"
     ]
    }
   ],
   "source": [
    "help(len)"
   ]
  },
  {
   "cell_type": "code",
   "execution_count": 58,
   "id": "0b3a970e",
   "metadata": {},
   "outputs": [],
   "source": [
    "#map PADA STRING TIPE\n",
    "def jmlkt(kata):\n",
    "    if len(kata)%2:\n",
    "        print (\"GENAP LURR\")\n",
    "    else:\n",
    "        print (\"ganjil slur\")\n",
    "        #lan adl fungsi untuk mengetahui panjang (jumlah item atau anggota) dari objek seperti sequence (string, list, tuple, range) dan collection (dictionary, set, dan frozenset)."
   ]
  },
  {
   "cell_type": "code",
   "execution_count": 59,
   "id": "a53e5340",
   "metadata": {},
   "outputs": [
    {
     "name": "stdout",
     "output_type": "stream",
     "text": [
      "ganjil slur\n"
     ]
    }
   ],
   "source": [
    "jmlkt(\"ksjfjiejff\")"
   ]
  },
  {
   "cell_type": "code",
   "execution_count": 65,
   "id": "e1b26528",
   "metadata": {},
   "outputs": [],
   "source": [
    "listkata = ['AWJRRERRR', \"SKJR\", 'AGTJUU']"
   ]
  },
  {
   "cell_type": "code",
   "execution_count": 66,
   "id": "08016d33",
   "metadata": {},
   "outputs": [
    {
     "name": "stdout",
     "output_type": "stream",
     "text": [
      "GENAP LURR\n",
      "ganjil slur\n",
      "ganjil slur\n"
     ]
    },
    {
     "data": {
      "text/plain": [
       "[None, None, None]"
      ]
     },
     "execution_count": 66,
     "metadata": {},
     "output_type": "execute_result"
    }
   ],
   "source": [
    "list(map(jmlkt, listkata))"
   ]
  },
  {
   "cell_type": "code",
   "execution_count": 67,
   "id": "4c32c20c",
   "metadata": {},
   "outputs": [
    {
     "name": "stdout",
     "output_type": "stream",
     "text": [
      "Help on class filter in module builtins:\n",
      "\n",
      "class filter(object)\n",
      " |  filter(function or None, iterable) --> filter object\n",
      " |  \n",
      " |  Return an iterator yielding those items of iterable for which function(item)\n",
      " |  is true. If function is None, return the items that are true.\n",
      " |  \n",
      " |  Methods defined here:\n",
      " |  \n",
      " |  __getattribute__(self, name, /)\n",
      " |      Return getattr(self, name).\n",
      " |  \n",
      " |  __iter__(self, /)\n",
      " |      Implement iter(self).\n",
      " |  \n",
      " |  __next__(self, /)\n",
      " |      Implement next(self).\n",
      " |  \n",
      " |  __reduce__(...)\n",
      " |      Return state information for pickling.\n",
      " |  \n",
      " |  ----------------------------------------------------------------------\n",
      " |  Static methods defined here:\n",
      " |  \n",
      " |  __new__(*args, **kwargs) from builtins.type\n",
      " |      Create and return a new object.  See help(type) for accurate signature.\n",
      "\n"
     ]
    }
   ],
   "source": [
    "#FILTER FUNCTION\n",
    "help(filter)"
   ]
  },
  {
   "cell_type": "code",
   "execution_count": 131,
   "id": "8ab6ac16",
   "metadata": {},
   "outputs": [],
   "source": [
    "#MAP DIGUNAKAN UTK HASIL Non boolean\n",
    "#FILTER DIGUNAKAN UTK HASIL BOOLEAN\n",
    "def cekgenap(num):\n",
    "    return num%2 == 0\n"
   ]
  },
  {
   "cell_type": "code",
   "execution_count": 127,
   "id": "356f651a",
   "metadata": {},
   "outputs": [
    {
     "data": {
      "text/plain": [
       "False"
      ]
     },
     "execution_count": 127,
     "metadata": {},
     "output_type": "execute_result"
    }
   ],
   "source": [
    "cekgenap(25)"
   ]
  },
  {
   "cell_type": "code",
   "execution_count": 128,
   "id": "074324bc",
   "metadata": {},
   "outputs": [],
   "source": [
    "no= [1,2,3,4,5,6,7,8,9,10, 11]"
   ]
  },
  {
   "cell_type": "code",
   "execution_count": 129,
   "id": "be92219f",
   "metadata": {},
   "outputs": [
    {
     "data": {
      "text/plain": [
       "[2, 4, 6, 8, 10]"
      ]
     },
     "execution_count": 129,
     "metadata": {},
     "output_type": "execute_result"
    }
   ],
   "source": [
    "list(filter(cekgenap,no))"
   ]
  },
  {
   "cell_type": "code",
   "execution_count": 130,
   "id": "9f02e6be",
   "metadata": {},
   "outputs": [
    {
     "name": "stdout",
     "output_type": "stream",
     "text": [
      "2\n",
      "4\n",
      "6\n",
      "8\n",
      "10\n"
     ]
    }
   ],
   "source": [
    "for a in filter(cekgenap,no):\n",
    "    print(a)"
   ]
  },
  {
   "cell_type": "markdown",
   "id": "d02de0af",
   "metadata": {},
   "source": [
    "# LAMBDA EXPRESSION"
   ]
  },
  {
   "cell_type": "code",
   "execution_count": 138,
   "id": "802c0f6c",
   "metadata": {},
   "outputs": [],
   "source": [
    "def kali1(ni):\n",
    "    return ni*10"
   ]
  },
  {
   "cell_type": "code",
   "execution_count": 139,
   "id": "949c2c97",
   "metadata": {},
   "outputs": [
    {
     "data": {
      "text/plain": [
       "<function __main__.<lambda>(ni)>"
      ]
     },
     "execution_count": 139,
     "metadata": {},
     "output_type": "execute_result"
    }
   ],
   "source": [
    "fungsiku = lambda ni: ni*10\n",
    "fungsiku"
   ]
  },
  {
   "cell_type": "code",
   "execution_count": 140,
   "id": "2b7975f4",
   "metadata": {},
   "outputs": [
    {
     "data": {
      "text/plain": [
       "120"
      ]
     },
     "execution_count": 140,
     "metadata": {},
     "output_type": "execute_result"
    }
   ],
   "source": [
    "fungsiku(12)"
   ]
  },
  {
   "cell_type": "code",
   "execution_count": 142,
   "id": "35594cd8",
   "metadata": {},
   "outputs": [
    {
     "data": {
      "text/plain": [
       "120"
      ]
     },
     "execution_count": 142,
     "metadata": {},
     "output_type": "execute_result"
    }
   ],
   "source": [
    "kali1(12)"
   ]
  },
  {
   "cell_type": "code",
   "execution_count": 159,
   "id": "2f5a5d41",
   "metadata": {},
   "outputs": [],
   "source": [
    "#LAMBDA EXPRESSION DIGUNAKAN SEKALI PAKAI, \n",
    "#TANPA MENDEFINISIKAN FUNGSI\n",
    "#LAMBDA DI MAP\n",
    "\n",
    "hasilmap = list(map(lambda x: x*10, num))\n"
   ]
  },
  {
   "cell_type": "code",
   "execution_count": 160,
   "id": "e3bcb946",
   "metadata": {},
   "outputs": [
    {
     "data": {
      "text/plain": [
       "[500, 600, 700, 800, 900]"
      ]
     },
     "execution_count": 160,
     "metadata": {},
     "output_type": "execute_result"
    }
   ],
   "source": [
    "hasilmap"
   ]
  },
  {
   "cell_type": "code",
   "execution_count": 174,
   "id": "4854a6f3",
   "metadata": {},
   "outputs": [],
   "source": [
    "hasilfilter = list(filter(lambda y: y%2 ==1, no))"
   ]
  },
  {
   "cell_type": "code",
   "execution_count": 175,
   "id": "b7d2d103",
   "metadata": {},
   "outputs": [
    {
     "data": {
      "text/plain": [
       "[1, 3, 5, 7, 9, 11]"
      ]
     },
     "execution_count": 175,
     "metadata": {},
     "output_type": "execute_result"
    }
   ],
   "source": [
    "hasilfilter"
   ]
  }
 ],
 "metadata": {
  "kernelspec": {
   "display_name": "Python 3 (ipykernel)",
   "language": "python",
   "name": "python3"
  },
  "language_info": {
   "codemirror_mode": {
    "name": "ipython",
    "version": 3
   },
   "file_extension": ".py",
   "mimetype": "text/x-python",
   "name": "python",
   "nbconvert_exporter": "python",
   "pygments_lexer": "ipython3",
   "version": "3.9.7"
  }
 },
 "nbformat": 4,
 "nbformat_minor": 5
}
